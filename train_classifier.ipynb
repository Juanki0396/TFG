{
 "cells": [
  {
   "cell_type": "markdown",
   "metadata": {},
   "source": [
    "# Training a classifier\n",
    "\n",
    "In this notebook we will run 3 training steps comparing the classifying capacity of a Resnet with 3 different scenarios:\n",
    "\n",
    "1. Images with random labels\n",
    "2. Images with and without added noise\n",
    "3. Original images without noise and noise images treated with a CycleGan"
   ]
  },
  {
   "cell_type": "code",
   "execution_count": 1,
   "metadata": {},
   "outputs": [],
   "source": [
    "import os\n",
    "\n",
    "import numpy as np\n",
    "import torch\n",
    "from torch.utils.data import DataLoader\n",
    "\n",
    "from src.data.dataset import ImageDataset\n",
    "from src.models.nets import resnet18_classifier\n",
    "from src.models.trainning import training\n",
    "from src.utils import run_time\n",
    "\n",
    "TRAIN_DATA_PATH = \"Data/prototype/train_SERAM.npy\"\n",
    "TEST_DATA_PATH = \"Data/prototype/test1_SERAM.npy\"\n"
   ]
  },
  {
   "cell_type": "markdown",
   "metadata": {},
   "source": [
    "## 1. Images with random labels"
   ]
  },
  {
   "cell_type": "code",
   "execution_count": 2,
   "metadata": {},
   "outputs": [
    {
     "name": "stdout",
     "output_type": "stream",
     "text": [
      "------EPOCH 0-------\n"
     ]
    },
    {
     "data": {
      "application/vnd.jupyter.widget-view+json": {
       "model_id": "9204cdfc1b20403587ec7572ceed73b2",
       "version_major": 2,
       "version_minor": 0
      },
      "text/plain": [
       "Current train loss:   0%|          | 0/37 [00:00<?, ?Batch/s]"
      ]
     },
     "metadata": {},
     "output_type": "display_data"
    },
    {
     "data": {
      "application/vnd.jupyter.widget-view+json": {
       "model_id": "a6d012fa7c6f498287e8fc4ea63ec3f8",
       "version_major": 2,
       "version_minor": 0
      },
      "text/plain": [
       "Current test loss:   0%|          | 0/150 [00:00<?, ?Batch/s]"
      ]
     },
     "metadata": {},
     "output_type": "display_data"
    },
    {
     "name": "stdout",
     "output_type": "stream",
     "text": [
      "Correct labeling: 75 of 150 images\n",
      "------EPOCH 1-------\n"
     ]
    },
    {
     "data": {
      "application/vnd.jupyter.widget-view+json": {
       "model_id": "708227142f064bc3b11f96b1a34481f8",
       "version_major": 2,
       "version_minor": 0
      },
      "text/plain": [
       "Current train loss:   0%|          | 0/37 [00:00<?, ?Batch/s]"
      ]
     },
     "metadata": {},
     "output_type": "display_data"
    }
   ],
   "source": [
    "train_dataset = ImageDataset(TRAIN_DATA_PATH, random_labels=True)\n",
    "test_dataset = ImageDataset(TEST_DATA_PATH, random_labels=True)\n",
    "\n",
    "epochs = 3\n",
    "batch_size = 16\n",
    "lr = 1e-3\n",
    "\n",
    "model = resnet18_classifier(1)\n",
    "optimizer = torch.optim.Adam(model.parameters(), lr=lr)\n",
    "train_dataloader = DataLoader(train_dataset, batch_size=batch_size, shuffle=True)\n",
    "test_dataloader = DataLoader(test_dataset, batch_size=1, shuffle=False)\n",
    "\n",
    "training(model, train_dataloader, test_dataloader, optimizer, torch.nn.MSELoss(), epochs)"
   ]
  },
  {
   "cell_type": "code",
   "execution_count": null,
   "metadata": {},
   "outputs": [],
   "source": []
  }
 ],
 "metadata": {
  "interpreter": {
   "hash": "078c912262ea310acf57b184aef5f4cdb12f8068d97d8d71de5d15986e0058ad"
  },
  "kernelspec": {
   "display_name": "Python 3.8.10 ('.venv': venv)",
   "language": "python",
   "name": "python3"
  },
  "language_info": {
   "codemirror_mode": {
    "name": "ipython",
    "version": 3
   },
   "file_extension": ".py",
   "mimetype": "text/x-python",
   "name": "python",
   "nbconvert_exporter": "python",
   "pygments_lexer": "ipython3",
   "version": "3.8.10"
  },
  "orig_nbformat": 4
 },
 "nbformat": 4,
 "nbformat_minor": 2
}
