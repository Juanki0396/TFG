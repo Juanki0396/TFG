{
 "cells": [
  {
   "cell_type": "markdown",
   "metadata": {},
   "source": [
    "# Gogle Colab Set up"
   ]
  },
  {
   "cell_type": "code",
   "execution_count": null,
   "metadata": {},
   "outputs": [],
   "source": [
    "!git clone https://github.com/Juanki0396/TFG"
   ]
  },
  {
   "cell_type": "code",
   "execution_count": null,
   "metadata": {},
   "outputs": [],
   "source": [
    "import os\n",
    "os.chdir(\"TFG\")"
   ]
  },
  {
   "cell_type": "code",
   "execution_count": null,
   "metadata": {},
   "outputs": [],
   "source": [
    "!pip install -r requirements.txt\n",
    "!mkdir save_models\n",
    "!bash dataset.sh"
   ]
  },
  {
   "cell_type": "markdown",
   "metadata": {},
   "source": [
    "# Training a classifier\n",
    "\n",
    "In this notebook we will run 3 training steps comparing the classifying capacity of a Resnet with 3 different scenarios:\n",
    "\n",
    "1. Images with random labels\n",
    "2. Images with and without added noise\n",
    "3. Original images without noise and noise images treated with a CycleGan"
   ]
  },
  {
   "cell_type": "code",
   "execution_count": 3,
   "metadata": {},
   "outputs": [],
   "source": [
    "import random\n",
    "\n",
    "from torch.utils.data import DataLoader\n",
    "\n",
    "from config import TRAIN_DATA_PATH, TEST_DATA_PATH, SEED\n",
    "from src.data.dataset import ImageDataset, CycleGanDataset ,load_data, generate_noisy_dataset, generate_cycle_gan_dataset\n",
    "from src.models.base_model import CycleGan, ImageClassifier\n",
    "from src.models.trainning import ClassifierTrainer, CycleGanTrainer, train_classifiers, train_cyclegan\n",
    "from src.utils import plot_image\n",
    "\n",
    "train_data = load_data(TRAIN_DATA_PATH)\n",
    "test_data = load_data(TEST_DATA_PATH)\n",
    "\n",
    "random.seed(SEED)"
   ]
  },
  {
   "cell_type": "markdown",
   "metadata": {},
   "source": [
    "## 1. Images with random labels"
   ]
  },
  {
   "cell_type": "code",
   "execution_count": null,
   "metadata": {},
   "outputs": [],
   "source": [
    "epochs = 5\n",
    "batch_size = 16\n",
    "lr = 1e-3\n",
    "\n",
    "model = ImageClassifier(lr=lr, threshold=0.5, device=\"cuda:0\", name=\"Random_Labels_Clasiffier\")\n",
    "\n",
    "train_dataset = ImageDataset(train_data, random_labels=True)\n",
    "test_dataset = ImageDataset(test_data, random_labels=True)\n",
    "train_dataloader = DataLoader(train_dataset, batch_size=batch_size, shuffle=True)\n",
    "test_dataloader = DataLoader(test_dataset, batch_size=batch_size//2, shuffle=False)\n",
    "\n",
    "train_manager = ClassifierTrainer(model=model, save_dir=\"./save_models\")\n",
    "train_manager.set_dataloaders(train_dataloader, test_dataloader)\n",
    "train_manager = train_classifiers(train_manager, epochs=5)\n",
    "loss_fig = train_manager.plot_losses()\n"
   ]
  },
  {
   "cell_type": "markdown",
   "metadata": {},
   "source": [
    "## 2. Images with and without added noise"
   ]
  },
  {
   "cell_type": "code",
   "execution_count": null,
   "metadata": {},
   "outputs": [],
   "source": [
    "train_noisy_data = generate_noisy_dataset(train_data)\n",
    "test_noisy_data = generate_noisy_dataset(test_data)\n",
    "\n",
    "train_noisy_dataset = ImageDataset(train_noisy_data, random_labels=False)\n",
    "test_noisy_dataset = ImageDataset(test_noisy_data, random_labels=False)\n",
    "\n",
    "epochs = 7\n",
    "batch_size = 16\n",
    "lr = 1e-3\n",
    "\n",
    "model = ImageClassifier(lr=lr, threshold=0.5, device=\"cuda:0\", name=\"Noisy_Images_Clasiffier\")\n",
    "train_dataloader = DataLoader(train_noisy_dataset, batch_size=batch_size, shuffle=True )\n",
    "test_dataloader = DataLoader(test_noisy_dataset, batch_size=1, shuffle=False)\n",
    "\n",
    "train_manager = ClassifierTrainer(model, save_dir=\"./save_models\")\n",
    "train_manager.set_dataloaders(train_dataloader, test_dataloader)\n",
    "train_manager = train_classifiers(train_manager, epochs=epochs)\n",
    "loss_fig = train_manager.plot_losses()"
   ]
  },
  {
   "cell_type": "markdown",
   "metadata": {},
   "source": [
    "## 3. Real and CycleGan Images"
   ]
  },
  {
   "cell_type": "code",
   "execution_count": null,
   "metadata": {},
   "outputs": [],
   "source": [
    "cyclegan_train_data = generate_cycle_gan_dataset(train_data)\n",
    "cyclegan_train_dataset = CycleGanDataset(cyclegan_train_data)\n",
    "cyclegan_test_data = generate_cycle_gan_dataset(test_data)\n",
    "cyclegan_test_dataset = CycleGanDataset(cyclegan_test_data)\n",
    "\n",
    "epochs = 7\n",
    "batch_size = 1\n",
    "lr = 1e-3\n",
    "\n",
    "model = CycleGan(device=\"cuda:0\", lr=lr)\n",
    "train_dataloader = DataLoader(cyclegan_train_dataset, batch_size=batch_size, shuffle=True)\n",
    "\n",
    "train_manager = CycleGanTrainer(model, save_dir=\"./save_models\")\n",
    "train_manager.set_dataloaders(train_dataloader)\n",
    "train_manager = train_cyclegan(train_manager, epochs=epochs)\n",
    "fig = train_manager.plot_training_losses()"
   ]
  },
  {
   "cell_type": "code",
   "execution_count": null,
   "metadata": {},
   "outputs": [],
   "source": []
  }
 ],
 "metadata": {
  "interpreter": {
   "hash": "078c912262ea310acf57b184aef5f4cdb12f8068d97d8d71de5d15986e0058ad"
  },
  "kernelspec": {
   "display_name": "Python 3.8.10 ('.venv': venv)",
   "language": "python",
   "name": "python3"
  },
  "language_info": {
   "codemirror_mode": {
    "name": "ipython",
    "version": 3
   },
   "file_extension": ".py",
   "mimetype": "text/x-python",
   "name": "python",
   "nbconvert_exporter": "python",
   "pygments_lexer": "ipython3",
   "version": "3.8.10"
  },
  "orig_nbformat": 4
 },
 "nbformat": 4,
 "nbformat_minor": 2
}
